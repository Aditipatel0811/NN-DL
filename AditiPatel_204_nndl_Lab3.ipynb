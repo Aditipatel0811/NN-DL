{
  "nbformat": 4,
  "nbformat_minor": 0,
  "metadata": {
    "colab": {
      "provenance": [],
      "include_colab_link": true
    },
    "kernelspec": {
      "name": "python3",
      "display_name": "Python 3"
    },
    "language_info": {
      "name": "python"
    }
  },
  "cells": [
    {
      "cell_type": "markdown",
      "metadata": {
        "id": "view-in-github",
        "colab_type": "text"
      },
      "source": [
        "<a href=\"https://colab.research.google.com/github/Aditipatel0811/NN-DL/blob/main/AditiPatel_204_nndl_Lab3.ipynb\" target=\"_parent\"><img src=\"https://colab.research.google.com/assets/colab-badge.svg\" alt=\"Open In Colab\"/></a>"
      ]
    },
    {
      "cell_type": "markdown",
      "source": [
        "Regular lab Question – 3\n",
        "\n",
        "Develop a neural network using backpropagation to classify images from the CIFAR-10\n",
        "dataset. The dataset contains 60,000 32x32 color images divided into 10 classes\n",
        "(airplanes, cars, birds, cats, deer, dogs, frogs, horses, ships, and trucks)."
      ],
      "metadata": {
        "id": "-0iVWc7qxp7z"
      }
    },
    {
      "cell_type": "markdown",
      "source": [
        "Data Preprocessing"
      ],
      "metadata": {
        "id": "TDT2pTilxsXD"
      }
    },
    {
      "cell_type": "code",
      "source": [
        "import tensorflow as tf\n",
        "from tensorflow.keras.datasets import cifar10\n",
        "from tensorflow.keras.utils import to_categorical\n",
        "from tensorflow.keras.preprocessing.image import ImageDataGenerator"
      ],
      "metadata": {
        "id": "WN9lFuKHx0tq"
      },
      "execution_count": 2,
      "outputs": []
    },
    {
      "cell_type": "code",
      "source": [
        "from google.colab import drive\n",
        "drive.mount('/content/drive')"
      ],
      "metadata": {
        "id": "8f5Jz_T1gUlJ",
        "colab": {
          "base_uri": "https://localhost:8080/"
        },
        "outputId": "071d5ecf-12a0-44b0-ad34-43d3af46374a"
      },
      "execution_count": 3,
      "outputs": [
        {
          "output_type": "stream",
          "name": "stdout",
          "text": [
            "Mounted at /content/drive\n"
          ]
        }
      ]
    },
    {
      "cell_type": "markdown",
      "source": [
        "Load the CIFAR-10 dataset."
      ],
      "metadata": {
        "id": "hKsh0cFqx3sS"
      }
    },
    {
      "cell_type": "code",
      "source": [
        "(train_images, train_labels), (test_images, test_labels) = cifar10.load_data()"
      ],
      "metadata": {
        "colab": {
          "base_uri": "https://localhost:8080/"
        },
        "id": "qFbHdTTrx8NS",
        "outputId": "e3bdfe8f-48f0-4e4e-9df3-49112e244894"
      },
      "execution_count": 4,
      "outputs": [
        {
          "output_type": "stream",
          "name": "stdout",
          "text": [
            "Downloading data from https://www.cs.toronto.edu/~kriz/cifar-10-python.tar.gz\n",
            "\u001b[1m170498071/170498071\u001b[0m \u001b[32m━━━━━━━━━━━━━━━━━━━━\u001b[0m\u001b[37m\u001b[0m \u001b[1m4s\u001b[0m 0us/step\n"
          ]
        }
      ]
    },
    {
      "cell_type": "markdown",
      "source": [
        "Perform necessary data preprocessing steps:\n",
        "▪ Normalize pixel values to range between 0 and 1.\n",
        "▪ Convert class labels into one-hot encoded format.\n",
        "▪ Split the dataset into training and test sets (e.g., 50,000 images for\n",
        "training and 10,000 for testing).\n",
        "▪ Optionally, apply data augmentation techniques (such as random\n",
        "flips, rotations, or shifts) to improve the generalization of the\n",
        "model."
      ],
      "metadata": {
        "id": "ELRjEsApyHtT"
      }
    },
    {
      "cell_type": "code",
      "source": [
        "# Normalize pixel values to range between 0 and 1\n",
        "train_images = train_images.astype('float32') / 255.0\n",
        "test_images = test_images.astype('float32') / 255.0\n",
        "\n",
        "# Convert class labels into one-hot encoded format\n",
        "train_labels = to_categorical(train_labels, 10)\n",
        "test_labels = to_categorical(test_labels, 10)\n",
        "\n",
        "# Split the dataset: 50,000 for training and 10,000 for testing\n",
        "# It is already splitted above\n",
        "\n",
        "# Apply data augmentation techniques\n",
        "data_augmentation = ImageDataGenerator(\n",
        "    rotation_range=20,  # Randomly rotate images by 20 degrees\n",
        "    width_shift_range=0.2,  # Randomly shift images horizontally\n",
        "    height_shift_range=0.2,  # Randomly shift images vertically\n",
        "    horizontal_flip=True,  # Randomly flip images horizontally\n",
        ")\n",
        "\n",
        "print(\"Data preprocessing complete.\")"
      ],
      "metadata": {
        "colab": {
          "base_uri": "https://localhost:8080/"
        },
        "id": "37-rHiLOyIVz",
        "outputId": "2169c93f-8732-4adf-fb7c-92efa4af3dac"
      },
      "execution_count": 5,
      "outputs": [
        {
          "output_type": "stream",
          "name": "stdout",
          "text": [
            "Data preprocessing complete.\n"
          ]
        }
      ]
    },
    {
      "cell_type": "markdown",
      "source": [
        "Network Architecture Design:"
      ],
      "metadata": {
        "id": "QKPQxTP3093e"
      }
    },
    {
      "cell_type": "code",
      "source": [
        "from tensorflow.keras import Sequential\n",
        "from tensorflow.keras.layers import Dense, Flatten, Dropout"
      ],
      "metadata": {
        "id": "ilUvYohD1AvO"
      },
      "execution_count": 6,
      "outputs": []
    },
    {
      "cell_type": "markdown",
      "source": [
        "Design a feedforward neural network to classify the images.\n",
        "▪ Input Layer: The input shape should match the 32x32x3\n",
        "dimensions of the CIFAR-10 images.\n",
        "▪ Hidden Layers: Use appropriate layers.\n",
        "▪ Output Layer: The final layer should have 10 output neurons (one\n",
        "for each class) with a softmax activation function for multi-class\n",
        "classification."
      ],
      "metadata": {
        "id": "KJ_LRUVK1Ov7"
      }
    },
    {
      "cell_type": "code",
      "source": [
        "# Design a feedforward neural network\n",
        "model = Sequential()\n",
        "\n",
        "# Input Layer: Flatten the 32x32x3 input images\n",
        "model.add(Flatten(input_shape=(32, 32, 3)))\n",
        "\n",
        "# Hidden Layers\n",
        "model.add(Dense(512, activation='relu'))  # First hidden layer\n",
        "model.add(Dropout(0.5))  # Dropout layer to prevent overfitting\n",
        "model.add(Dense(256, activation='relu'))  # Second hidden layer\n",
        "model.add(Dropout(0.5))  # Dropout layer to prevent overfitting\n",
        "\n",
        "# Output Layer: 10 output neurons for each class\n",
        "model.add(Dense(10, activation='softmax'))\n",
        "\n",
        "# Compile the model\n",
        "model.compile(optimizer='adam',\n",
        "              loss='categorical_crossentropy',\n",
        "              metrics=['accuracy'])\n",
        "\n",
        "# Print the model summary\n",
        "model.summary()"
      ],
      "metadata": {
        "colab": {
          "base_uri": "https://localhost:8080/",
          "height": 386
        },
        "id": "Bn9A5ZKf1Q-L",
        "outputId": "be74e029-678b-47bb-9e30-05b26289e331"
      },
      "execution_count": 7,
      "outputs": [
        {
          "output_type": "stream",
          "name": "stderr",
          "text": [
            "/usr/local/lib/python3.10/dist-packages/keras/src/layers/reshaping/flatten.py:37: UserWarning: Do not pass an `input_shape`/`input_dim` argument to a layer. When using Sequential models, prefer using an `Input(shape)` object as the first layer in the model instead.\n",
            "  super().__init__(**kwargs)\n"
          ]
        },
        {
          "output_type": "display_data",
          "data": {
            "text/plain": [
              "\u001b[1mModel: \"sequential\"\u001b[0m\n"
            ],
            "text/html": [
              "<pre style=\"white-space:pre;overflow-x:auto;line-height:normal;font-family:Menlo,'DejaVu Sans Mono',consolas,'Courier New',monospace\"><span style=\"font-weight: bold\">Model: \"sequential\"</span>\n",
              "</pre>\n"
            ]
          },
          "metadata": {}
        },
        {
          "output_type": "display_data",
          "data": {
            "text/plain": [
              "┏━━━━━━━━━━━━━━━━━━━━━━━━━━━━━━━━━━━━━━┳━━━━━━━━━━━━━━━━━━━━━━━━━━━━━┳━━━━━━━━━━━━━━━━━┓\n",
              "┃\u001b[1m \u001b[0m\u001b[1mLayer (type)                        \u001b[0m\u001b[1m \u001b[0m┃\u001b[1m \u001b[0m\u001b[1mOutput Shape               \u001b[0m\u001b[1m \u001b[0m┃\u001b[1m \u001b[0m\u001b[1m        Param #\u001b[0m\u001b[1m \u001b[0m┃\n",
              "┡━━━━━━━━━━━━━━━━━━━━━━━━━━━━━━━━━━━━━━╇━━━━━━━━━━━━━━━━━━━━━━━━━━━━━╇━━━━━━━━━━━━━━━━━┩\n",
              "│ flatten (\u001b[38;5;33mFlatten\u001b[0m)                    │ (\u001b[38;5;45mNone\u001b[0m, \u001b[38;5;34m3072\u001b[0m)                │               \u001b[38;5;34m0\u001b[0m │\n",
              "├──────────────────────────────────────┼─────────────────────────────┼─────────────────┤\n",
              "│ dense (\u001b[38;5;33mDense\u001b[0m)                        │ (\u001b[38;5;45mNone\u001b[0m, \u001b[38;5;34m512\u001b[0m)                 │       \u001b[38;5;34m1,573,376\u001b[0m │\n",
              "├──────────────────────────────────────┼─────────────────────────────┼─────────────────┤\n",
              "│ dropout (\u001b[38;5;33mDropout\u001b[0m)                    │ (\u001b[38;5;45mNone\u001b[0m, \u001b[38;5;34m512\u001b[0m)                 │               \u001b[38;5;34m0\u001b[0m │\n",
              "├──────────────────────────────────────┼─────────────────────────────┼─────────────────┤\n",
              "│ dense_1 (\u001b[38;5;33mDense\u001b[0m)                      │ (\u001b[38;5;45mNone\u001b[0m, \u001b[38;5;34m256\u001b[0m)                 │         \u001b[38;5;34m131,328\u001b[0m │\n",
              "├──────────────────────────────────────┼─────────────────────────────┼─────────────────┤\n",
              "│ dropout_1 (\u001b[38;5;33mDropout\u001b[0m)                  │ (\u001b[38;5;45mNone\u001b[0m, \u001b[38;5;34m256\u001b[0m)                 │               \u001b[38;5;34m0\u001b[0m │\n",
              "├──────────────────────────────────────┼─────────────────────────────┼─────────────────┤\n",
              "│ dense_2 (\u001b[38;5;33mDense\u001b[0m)                      │ (\u001b[38;5;45mNone\u001b[0m, \u001b[38;5;34m10\u001b[0m)                  │           \u001b[38;5;34m2,570\u001b[0m │\n",
              "└──────────────────────────────────────┴─────────────────────────────┴─────────────────┘\n"
            ],
            "text/html": [
              "<pre style=\"white-space:pre;overflow-x:auto;line-height:normal;font-family:Menlo,'DejaVu Sans Mono',consolas,'Courier New',monospace\">┏━━━━━━━━━━━━━━━━━━━━━━━━━━━━━━━━━━━━━━┳━━━━━━━━━━━━━━━━━━━━━━━━━━━━━┳━━━━━━━━━━━━━━━━━┓\n",
              "┃<span style=\"font-weight: bold\"> Layer (type)                         </span>┃<span style=\"font-weight: bold\"> Output Shape                </span>┃<span style=\"font-weight: bold\">         Param # </span>┃\n",
              "┡━━━━━━━━━━━━━━━━━━━━━━━━━━━━━━━━━━━━━━╇━━━━━━━━━━━━━━━━━━━━━━━━━━━━━╇━━━━━━━━━━━━━━━━━┩\n",
              "│ flatten (<span style=\"color: #0087ff; text-decoration-color: #0087ff\">Flatten</span>)                    │ (<span style=\"color: #00d7ff; text-decoration-color: #00d7ff\">None</span>, <span style=\"color: #00af00; text-decoration-color: #00af00\">3072</span>)                │               <span style=\"color: #00af00; text-decoration-color: #00af00\">0</span> │\n",
              "├──────────────────────────────────────┼─────────────────────────────┼─────────────────┤\n",
              "│ dense (<span style=\"color: #0087ff; text-decoration-color: #0087ff\">Dense</span>)                        │ (<span style=\"color: #00d7ff; text-decoration-color: #00d7ff\">None</span>, <span style=\"color: #00af00; text-decoration-color: #00af00\">512</span>)                 │       <span style=\"color: #00af00; text-decoration-color: #00af00\">1,573,376</span> │\n",
              "├──────────────────────────────────────┼─────────────────────────────┼─────────────────┤\n",
              "│ dropout (<span style=\"color: #0087ff; text-decoration-color: #0087ff\">Dropout</span>)                    │ (<span style=\"color: #00d7ff; text-decoration-color: #00d7ff\">None</span>, <span style=\"color: #00af00; text-decoration-color: #00af00\">512</span>)                 │               <span style=\"color: #00af00; text-decoration-color: #00af00\">0</span> │\n",
              "├──────────────────────────────────────┼─────────────────────────────┼─────────────────┤\n",
              "│ dense_1 (<span style=\"color: #0087ff; text-decoration-color: #0087ff\">Dense</span>)                      │ (<span style=\"color: #00d7ff; text-decoration-color: #00d7ff\">None</span>, <span style=\"color: #00af00; text-decoration-color: #00af00\">256</span>)                 │         <span style=\"color: #00af00; text-decoration-color: #00af00\">131,328</span> │\n",
              "├──────────────────────────────────────┼─────────────────────────────┼─────────────────┤\n",
              "│ dropout_1 (<span style=\"color: #0087ff; text-decoration-color: #0087ff\">Dropout</span>)                  │ (<span style=\"color: #00d7ff; text-decoration-color: #00d7ff\">None</span>, <span style=\"color: #00af00; text-decoration-color: #00af00\">256</span>)                 │               <span style=\"color: #00af00; text-decoration-color: #00af00\">0</span> │\n",
              "├──────────────────────────────────────┼─────────────────────────────┼─────────────────┤\n",
              "│ dense_2 (<span style=\"color: #0087ff; text-decoration-color: #0087ff\">Dense</span>)                      │ (<span style=\"color: #00d7ff; text-decoration-color: #00d7ff\">None</span>, <span style=\"color: #00af00; text-decoration-color: #00af00\">10</span>)                  │           <span style=\"color: #00af00; text-decoration-color: #00af00\">2,570</span> │\n",
              "└──────────────────────────────────────┴─────────────────────────────┴─────────────────┘\n",
              "</pre>\n"
            ]
          },
          "metadata": {}
        },
        {
          "output_type": "display_data",
          "data": {
            "text/plain": [
              "\u001b[1m Total params: \u001b[0m\u001b[38;5;34m1,707,274\u001b[0m (6.51 MB)\n"
            ],
            "text/html": [
              "<pre style=\"white-space:pre;overflow-x:auto;line-height:normal;font-family:Menlo,'DejaVu Sans Mono',consolas,'Courier New',monospace\"><span style=\"font-weight: bold\"> Total params: </span><span style=\"color: #00af00; text-decoration-color: #00af00\">1,707,274</span> (6.51 MB)\n",
              "</pre>\n"
            ]
          },
          "metadata": {}
        },
        {
          "output_type": "display_data",
          "data": {
            "text/plain": [
              "\u001b[1m Trainable params: \u001b[0m\u001b[38;5;34m1,707,274\u001b[0m (6.51 MB)\n"
            ],
            "text/html": [
              "<pre style=\"white-space:pre;overflow-x:auto;line-height:normal;font-family:Menlo,'DejaVu Sans Mono',consolas,'Courier New',monospace\"><span style=\"font-weight: bold\"> Trainable params: </span><span style=\"color: #00af00; text-decoration-color: #00af00\">1,707,274</span> (6.51 MB)\n",
              "</pre>\n"
            ]
          },
          "metadata": {}
        },
        {
          "output_type": "display_data",
          "data": {
            "text/plain": [
              "\u001b[1m Non-trainable params: \u001b[0m\u001b[38;5;34m0\u001b[0m (0.00 B)\n"
            ],
            "text/html": [
              "<pre style=\"white-space:pre;overflow-x:auto;line-height:normal;font-family:Menlo,'DejaVu Sans Mono',consolas,'Courier New',monospace\"><span style=\"font-weight: bold\"> Non-trainable params: </span><span style=\"color: #00af00; text-decoration-color: #00af00\">0</span> (0.00 B)\n",
              "</pre>\n"
            ]
          },
          "metadata": {}
        }
      ]
    },
    {
      "cell_type": "markdown",
      "source": [
        "Input Layer:\n",
        "\n",
        "Flatten Layer:\n",
        "Reason: The CIFAR-10 images are 32x32 pixels with 3 color channels (RGB). Flattening transforms this 3D structure into a 1D array suitable for fully connected layers, enabling the model to process the pixel values effectively.\n",
        "\n",
        "Hidden Layers:\n",
        "\n",
        "First Hidden Layer (512 Neurons):\n",
        "\n",
        "Type: Dense (Fully Connected)\n",
        "Reason: The choice of 512 neurons allows the model to capture a rich set of features from the input images. This layer acts as the primary feature extractor, detecting complex patterns and representations from the flattened image data. A larger number of neurons enhances the model's capacity to learn intricate features from the dataset.\n",
        "Dropout Layer (0.5):\n",
        "\n",
        "Reason: Dropout is a regularization technique used to prevent overfitting by randomly setting a fraction of the neurons to zero during training. A dropout rate of 0.5 is commonly used, as it helps balance model complexity and generalization.\n",
        "Second Hidden Layer (256 Neurons):\n",
        "\n",
        "Type: Dense (Fully Connected)\n",
        "Reason: A reduction in the number of neurons to 256 in the second hidden layer helps in compressing the feature representation learned in the previous layer. This layer allows the model to refine and abstract the features further, maintaining a balance between model complexity and the risk of overfitting.\n",
        "Second Dropout Layer (0.5):\n",
        "\n",
        "Reason: Similar to the first dropout layer, this dropout layer helps to enhance generalization by further preventing overfitting in the second hidden layer.\n",
        "\n",
        "Output Layer:\n",
        "\n",
        "Final Layer (10 Neurons, Softmax Activation):\n",
        "Type: Dense (Fully Connected)\n",
        "Reason: The output layer has 10 neurons corresponding to the 10 classes in the CIFAR-10 dataset. The softmax activation function is used to output a probability distribution over the classes, making it suitable for multi-class classification tasks. Each neuron outputs the probability that the input image belongs to a particular class."
      ],
      "metadata": {
        "id": "gHGU0a_M1lOD"
      }
    },
    {
      "cell_type": "markdown",
      "source": [
        "Activation Functions:\n",
        "\n",
        "Choose any two appropriate activation functions for the hidden layers\n",
        "(e.g., ReLU, sigmoid, or tanh).\n",
        "\n",
        "1) ReLU (Rectified Linear Unit):\n",
        "\n",
        "Selection: The ReLU activation function is chosen for both hidden layers.\n",
        "Formula:\n",
        "f(x)=max(0,x)\n",
        "\n",
        "2) Tanh (Hyperbolic Tangent):\n",
        "\n",
        "Selection: Tanh activation function can be used as an alternative to ReLU, but in this specific architecture, it could be considered for experimental purposes in one of the layers.\n",
        "Formula:\n",
        "\n",
        "f(x)= (e^(x)-e^(-x)) / (e^(x)+e^(-x))\n",
        "\n",
        "\n",
        "Explain why you selected a particular activation function and its role in\n",
        "the backpropagation process.\n",
        "\n",
        "Reasons for Selection in ReLU:-\n",
        "\n",
        "1) Non-linearity: ReLU introduces non-linearity to the model, which is essential for learning complex patterns in the data. Without non-linear activation functions, the network would behave like a linear model, limiting its expressiveness.\n",
        "2) Computational Efficiency: ReLU is computationally efficient because it involves simple thresholding at zero, allowing faster training compared to more complex activation functions like sigmoid or tanh.\n",
        "3) Sparse Activation: ReLU activates only a subset of neurons at a time (those with positive inputs), leading to a more efficient representation of the data and reducing the likelihood of overfitting.\n",
        "\n",
        "Role of ReLU in Back propagation\n",
        "\n",
        "ReLU adds non-linear transformations to the network. This is critical because most real-world data is non-linear.\n",
        "Gradient Composition for ReLU:- he gradient of ReLU is 1 for positive inputs and 0 for negative inputs. During backpropagation, if a neuron is inactive (output is 0), it does not contribute to the gradient flow, effectively preventing the weights from updating in that neuron. This sparsity can help reduce overfitting but can also lead to the \"dying ReLU\" problem, where neurons can become inactive and never activate during training.\n",
        "\n",
        "\n",
        "Reasons for selection of Tanh\n",
        "\n",
        "1) Zero-Centered Output: Tanh outputs values in the range of -1 to 1, which makes the outputs zero-centered. This property can help mitigate issues related to gradient saturation during training and improve convergence speed compared to the sigmoid function, which outputs between 0 and 1.\n",
        "2) Gradient Flow: The gradients for the tanh function are relatively stronger than those for the sigmoid function when the inputs are in the steep regions, which can help propagate gradients better during backpropagation.\n",
        "\n",
        "Role of Tanh in Back Propagation\n",
        "\n",
        "Tanh adds non-linear transformations to the network. This is critical because most real-world data is non-linear.\n",
        "\n",
        "Gradient Computation:\n",
        " The gradient of tanh is maximum at 0 and decreases towards -1 and 1. This ensures that the gradients remain well-scaled for inputs near zero, helping with efficient weight updates during training. However, tanh can suffer from saturation for extreme values, where gradients approach zero, leading to slower learning rates."
      ],
      "metadata": {
        "id": "QycYsxc52Em4"
      }
    },
    {
      "cell_type": "markdown",
      "source": [
        "4. Loss Function and Optimizer:\n",
        "o Use any two loss functions and compare with the categorical cross\n",
        "entropy since this is a multi-class classification problem.\n",
        "\n",
        "\n",
        "\n",
        "Two loss function that I have chosen are:-\n",
        "\n",
        "1. Kullback-Leibler Divergence Loss (KL Divergence)\n",
        "Definition: KL divergence measures how one probability distribution diverges from a second expected probability distribution. It can be used to compare the predicted probability distribution with the true distribution.\n",
        "\n",
        "Why Use It: KL divergence is useful in scenarios where you want to measure how much information is lost when approximating one distribution with another. It provides a more generalized measure of the difference between distributions, which can be useful in probabilistic models.\n",
        "\n",
        "2. Sparse Categorical Cross-Entropy Loss\n",
        "Definition: Sparse categorical cross-entropy is similar to categorical cross-entropy but directly works with integer labels rather than requiring one-hot encoding.\n",
        "\n",
        "Why Use It: This loss function is memory-efficient because it does not require the overhead of one-hot encoding, making it ideal for multi-class classification with many classes.\n",
        "\n",
        "Comparing these loss functions with categorical cross-entropy:-\n",
        "\n",
        "Summary of Loss Functions for Multi-Class Classification\n",
        "\n",
        "Categorical Cross-Entropy Loss:\n",
        "Pros:\n",
        "Widely used and well-understood in the context of multi-class classification.\n",
        "Effectively quantifies the performance of the model by comparing predicted probabilities to true class distributions.\n",
        "Provides meaningful loss values, making it easy to interpret.\n",
        "Cons:\n",
        "Requires one-hot encoding of labels, which can increase memory usage, especially with a large number of classes.\n",
        "\n",
        "Kullback-Leibler Divergence Loss (KL Divergence):\n",
        "Pros:\n",
        "Measures how one probability distribution diverges from another, allowing for a more generalized assessment of model performance.\n",
        "Useful for probabilistic interpretations and applications in generative models.\n",
        "Cons:\n",
        "Less intuitive for standard classification tasks, making it potentially more complex to interpret compared to categorical cross-entropy.\n",
        "\n",
        "Sparse Categorical Cross-Entropy Loss:\n",
        "Pros:\n",
        "More memory-efficient as it directly works with integer labels, eliminating the need for one-hot encoding.\n",
        "Similar performance to categorical cross-entropy while saving computational resources.\n",
        "Cons:\n",
        "May be less intuitive than categorical cross-entropy for some implementations, especially for those unfamiliar with integer labels."
      ],
      "metadata": {
        "id": "AWwSBNtR5lmk"
      }
    },
    {
      "cell_type": "markdown",
      "source": [
        "Select an appropriate optimizer (e.g., SGD, Adam, RMSprop) and explain\n",
        "how the learning rate affects the backpropagation process.\n",
        "\n",
        "Adam Optimizer:\n",
        "\n",
        "Definition: Adam (Adaptive Moment Estimation) is an advanced gradient descent algorithm that combines the benefits of two other extensions of stochastic gradient descent: AdaGrad and RMSprop.\n",
        "Benefits:\n",
        "Adaptive Learning Rates: Adam computes adaptive learning rates for each parameter based on first and second moments of the gradients (the mean and the variance).\n",
        "Efficiency: It requires minimal memory and is computationally efficient, making it suitable for large datasets and parameters.\n",
        "\n",
        "Learning Rate: The learning rate is a hyperparameter that determines the step size at each iteration while moving toward a minimum of the loss function.\n",
        "\n",
        "Effects on Backpropagation:\n",
        "\n",
        "Too High: If the learning rate is too high, the model may overshoot the minimum of the loss function, causing oscillations and potentially leading to divergence (the model fails to learn).\n",
        "Too Low: Conversely, if the learning rate is too low, convergence can be painfully slow, requiring many epochs to reach the minimum, and may get stuck in local minima.\n",
        "Adaptive Learning Rates: Optimizers like Adam adjust the learning rate dynamically based on the gradients, allowing the model to converge faster and with more stability, thus improving the effectiveness of backpropagation."
      ],
      "metadata": {
        "id": "dslrbpl-789X"
      }
    },
    {
      "cell_type": "markdown",
      "source": [
        "How does the choice of optimizer and learning rate influence the\n",
        "convergence of the network? How would you adjust the learning rate if the\n",
        "model is not converging properly?\n",
        "\n",
        "Optimizer Choice:\n",
        "\n",
        "The optimizer determines how the model's weights are updated during training based on the gradients of the loss function. Different optimizers have distinct strategies for weight updates, which can significantly affect the convergence speed and stability of the model.Learning Rate:\n",
        "\n",
        "The learning rate controls the step size during weight updates. It is a crucial hyperparameter that influences the convergence behavior of the model.\n",
        "\n",
        "Too High: If the learning rate is too high, the updates may overshoot the optimal solution, causing the loss to oscillate or even diverge. This leads to failure in finding the minimum.\n",
        "Too Low: Conversely, if the learning rate is too low, the convergence can be excessively slow, requiring many epochs to reach the minimum. The model may also get stuck in local minima, making it difficult to achieve better performance."
      ],
      "metadata": {
        "id": "yHtcASjm8Uvh"
      }
    },
    {
      "cell_type": "markdown",
      "source": [
        "5. Training the Model:\n",
        "o Implement backpropagation to update the weights and biases of the\n",
        "network during training.\n",
        "o Train the model for a fixed number of epochs (e.g., 50 epochs) and\n",
        "monitor the training and validation accuracy."
      ],
      "metadata": {
        "id": "Xi8ZwPjo8_Q9"
      }
    },
    {
      "cell_type": "code",
      "source": [
        "# Fit the model with data augmentation\n",
        "# Use the data generator to augment the training images\n",
        "train_datagen = data_augmentation.flow(train_images, train_labels, batch_size=64)\n",
        "\n",
        "# Train the model for a fixed number of epochs (e.g., 10)\n",
        "history = model.fit(train_datagen,\n",
        "                    steps_per_epoch=len(train_images) // 64,  # Total samples / batch size\n",
        "                    validation_data=(test_images, test_labels),\n",
        "                    epochs=10)\n",
        "\n",
        "# Monitor training and validation accuracy and loss\n",
        "import matplotlib.pyplot as plt\n",
        "\n",
        "# Plot training & validation accuracy values\n",
        "plt.figure(figsize=(12, 5))\n",
        "plt.subplot(1, 2, 1)\n",
        "plt.plot(history.history['accuracy'], label='Train Accuracy')\n",
        "plt.plot(history.history['val_accuracy'], label='Validation Accuracy')\n",
        "plt.title('Model Accuracy')\n",
        "plt.ylabel('Accuracy')\n",
        "plt.xlabel('Epoch')\n",
        "plt.legend(loc='upper left')\n",
        "\n",
        "# Plot training & validation loss values\n",
        "plt.subplot(1, 2, 2)\n",
        "plt.plot(history.history['loss'], label='Train Loss')\n",
        "plt.plot(history.history['val_loss'], label='Validation Loss')\n",
        "plt.title('Model Loss')\n",
        "plt.ylabel('Loss')\n",
        "plt.xlabel('Epoch')\n",
        "plt.legend(loc='upper left')\n",
        "\n",
        "plt.tight_layout()\n",
        "plt.show()\n",
        "\n",
        "print(\"Training complete.\")\n"
      ],
      "metadata": {
        "colab": {
          "base_uri": "https://localhost:8080/",
          "height": 973
        },
        "id": "E2dCeU6N9A2F",
        "outputId": "7cfda5b6-a4f0-4707-e000-f65323e1ea63"
      },
      "execution_count": 8,
      "outputs": [
        {
          "output_type": "stream",
          "name": "stdout",
          "text": [
            "Epoch 1/10\n"
          ]
        },
        {
          "output_type": "stream",
          "name": "stderr",
          "text": [
            "/usr/local/lib/python3.10/dist-packages/keras/src/trainers/data_adapters/py_dataset_adapter.py:121: UserWarning: Your `PyDataset` class should call `super().__init__(**kwargs)` in its constructor. `**kwargs` can include `workers`, `use_multiprocessing`, `max_queue_size`. Do not pass these arguments to `fit()`, as they will be ignored.\n",
            "  self._warn_if_super_not_called()\n"
          ]
        },
        {
          "output_type": "stream",
          "name": "stdout",
          "text": [
            "\u001b[1m781/781\u001b[0m \u001b[32m━━━━━━━━━━━━━━━━━━━━\u001b[0m\u001b[37m\u001b[0m \u001b[1m66s\u001b[0m 82ms/step - accuracy: 0.1469 - loss: 2.3222 - val_accuracy: 0.2181 - val_loss: 2.1027\n",
            "Epoch 2/10\n",
            "\u001b[1m  1/781\u001b[0m \u001b[37m━━━━━━━━━━━━━━━━━━━━\u001b[0m \u001b[1m33s\u001b[0m 42ms/step - accuracy: 0.1562 - loss: 2.2274"
          ]
        },
        {
          "output_type": "stream",
          "name": "stderr",
          "text": [
            "/usr/lib/python3.10/contextlib.py:153: UserWarning: Your input ran out of data; interrupting training. Make sure that your dataset or generator can generate at least `steps_per_epoch * epochs` batches. You may need to use the `.repeat()` function when building your dataset.\n",
            "  self.gen.throw(typ, value, traceback)\n"
          ]
        },
        {
          "output_type": "stream",
          "name": "stdout",
          "text": [
            "\b\b\b\b\b\b\b\b\b\b\b\b\b\b\b\b\b\b\b\b\b\b\b\b\b\b\b\b\b\b\b\b\b\b\b\b\b\b\b\b\b\b\b\b\b\b\b\b\b\b\b\b\b\b\b\b\b\b\b\b\b\b\b\b\b\b\b\b\b\b\b\b\b\b\b\b\r\u001b[1m781/781\u001b[0m \u001b[32m━━━━━━━━━━━━━━━━━━━━\u001b[0m\u001b[37m\u001b[0m \u001b[1m2s\u001b[0m 2ms/step - accuracy: 0.1562 - loss: 2.2274 - val_accuracy: 0.2217 - val_loss: 2.1042\n",
            "Epoch 3/10\n",
            "\u001b[1m781/781\u001b[0m \u001b[32m━━━━━━━━━━━━━━━━━━━━\u001b[0m\u001b[37m\u001b[0m \u001b[1m76s\u001b[0m 77ms/step - accuracy: 0.1717 - loss: 2.1570 - val_accuracy: 0.2259 - val_loss: 2.0865\n",
            "Epoch 4/10\n",
            "\u001b[1m781/781\u001b[0m \u001b[32m━━━━━━━━━━━━━━━━━━━━\u001b[0m\u001b[37m\u001b[0m \u001b[1m1s\u001b[0m 2ms/step - accuracy: 0.1719 - loss: 2.3382 - val_accuracy: 0.2353 - val_loss: 2.0864\n",
            "Epoch 5/10\n",
            "\u001b[1m781/781\u001b[0m \u001b[32m━━━━━━━━━━━━━━━━━━━━\u001b[0m\u001b[37m\u001b[0m \u001b[1m61s\u001b[0m 77ms/step - accuracy: 0.1892 - loss: 2.1220 - val_accuracy: 0.2492 - val_loss: 2.0597\n",
            "Epoch 6/10\n",
            "\u001b[1m781/781\u001b[0m \u001b[32m━━━━━━━━━━━━━━━━━━━━\u001b[0m\u001b[37m\u001b[0m \u001b[1m1s\u001b[0m 2ms/step - accuracy: 0.1875 - loss: 2.1854 - val_accuracy: 0.2498 - val_loss: 2.0605\n",
            "Epoch 7/10\n",
            "\u001b[1m781/781\u001b[0m \u001b[32m━━━━━━━━━━━━━━━━━━━━\u001b[0m\u001b[37m\u001b[0m \u001b[1m60s\u001b[0m 77ms/step - accuracy: 0.1929 - loss: 2.1140 - val_accuracy: 0.2344 - val_loss: 2.0404\n",
            "Epoch 8/10\n",
            "\u001b[1m781/781\u001b[0m \u001b[32m━━━━━━━━━━━━━━━━━━━━\u001b[0m\u001b[37m\u001b[0m \u001b[1m1s\u001b[0m 2ms/step - accuracy: 0.2344 - loss: 2.1095 - val_accuracy: 0.2340 - val_loss: 2.0355\n",
            "Epoch 9/10\n",
            "\u001b[1m781/781\u001b[0m \u001b[32m━━━━━━━━━━━━━━━━━━━━\u001b[0m\u001b[37m\u001b[0m \u001b[1m61s\u001b[0m 77ms/step - accuracy: 0.1946 - loss: 2.1053 - val_accuracy: 0.2495 - val_loss: 2.0279\n",
            "Epoch 10/10\n",
            "\u001b[1m781/781\u001b[0m \u001b[32m━━━━━━━━━━━━━━━━━━━━\u001b[0m\u001b[37m\u001b[0m \u001b[1m3s\u001b[0m 3ms/step - accuracy: 0.2812 - loss: 2.0958 - val_accuracy: 0.2496 - val_loss: 2.0264\n"
          ]
        },
        {
          "output_type": "display_data",
          "data": {
            "text/plain": [
              "<Figure size 1200x500 with 2 Axes>"
            ],
            "image/png": "[encoded data removed]"
          },
          "metadata": {}
        },
        {
          "output_type": "stream",
          "name": "stdout",
          "text": [
            "Training complete.\n"
          ]
        }
      ]
    },
    {
      "cell_type": "markdown",
      "source": [
        "How does backpropagation update the weights in each layer, and what\n",
        "role does the learning rate play in this process?\n",
        "\n",
        "Backpropagation Process\n",
        "Forward Pass:\n",
        "\n",
        "Input data is fed through the network, producing an output and calculating the loss.\n",
        "Gradient Calculation:\n",
        "\n",
        "Gradients of the loss with respect to the output are computed and propagated backward through the network using the chain rule. This involves calculating derivatives for each layer.\n",
        "Weight Update:\n",
        "\n",
        "Weights are updated using the formula:\n",
        "w=w-learning_rate*∂Loss/∂𝑤\n",
        "\n",
        "Here,\n",
        "w represents the weight, and ∂Loss/∂𝑤 is the gradient.\n",
        "\n",
        "Role of Learning Rate\n",
        "\n",
        "1) Update Magnitude:\n",
        "Determines the size of weight updates. A higher learning rate results in larger updates, while a lower rate leads to smaller, more gradual updates.\n",
        "2) Training Stability:\n",
        "A high learning rate can cause instability and divergence, while a low learning rate may lead to slow convergence or getting stuck in local minima.\n",
        "3) Adaptive Learning:\n",
        "Optimizers like Adam adjust the learning rate dynamically for better convergence.\n"
      ],
      "metadata": {
        "id": "odxl65TD_rzh"
      }
    },
    {
      "cell_type": "markdown",
      "source": [
        "Model Evaluation:\n",
        "o After training, evaluate the performance of your model on the test set.\n",
        "o Calculate accuracy, precision, recall, F1-score, and the confusion matrix\n",
        "to understand the model’s classification performance."
      ],
      "metadata": {
        "id": "4gp7Dd-2AgPg"
      }
    },
    {
      "cell_type": "code",
      "source": [
        "from sklearn.metrics import confusion_matrix, classification_report\n",
        "import numpy as np\n",
        "\n",
        "# 1. Evaluate the model on the test set\n",
        "test_loss, test_accuracy = model.evaluate(test_images, test_labels)\n",
        "print(f'Test Accuracy: {test_accuracy:.4f}')\n",
        "\n",
        "# 2. Make predictions on the test set\n",
        "predictions = model.predict(test_images)\n",
        "predicted_classes = np.argmax(predictions, axis=1)  # Get class labels from predictions\n",
        "true_classes = np.argmax(test_labels, axis=1)  # Get true class labels\n",
        "\n",
        "# 3. Generate confusion matrix\n",
        "conf_matrix = confusion_matrix(true_classes, predicted_classes)\n",
        "print(\"Confusion Matrix:\")\n",
        "print(conf_matrix)\n",
        "\n",
        "# 4. Generate classification report\n",
        "class_report = classification_report(true_classes, predicted_classes, target_names=[str(i) for i in range(10)])\n",
        "print(\"Classification Report:\")\n",
        "print(class_report)\n"
      ],
      "metadata": {
        "colab": {
          "base_uri": "https://localhost:8080/"
        },
        "id": "INC0l-4UAg5K",
        "outputId": "e92fa70c-3f86-476d-80c7-4ea07a4ba529"
      },
      "execution_count": 9,
      "outputs": [
        {
          "output_type": "stream",
          "name": "stdout",
          "text": [
            "\u001b[1m313/313\u001b[0m \u001b[32m━━━━━━━━━━━━━━━━━━━━\u001b[0m\u001b[37m\u001b[0m \u001b[1m2s\u001b[0m 5ms/step - accuracy: 0.2523 - loss: 2.0294\n",
            "Test Accuracy: 0.2496\n",
            "\u001b[1m313/313\u001b[0m \u001b[32m━━━━━━━━━━━━━━━━━━━━\u001b[0m\u001b[37m\u001b[0m \u001b[1m2s\u001b[0m 5ms/step\n",
            "Confusion Matrix:\n",
            "[[ 37  96   0  38  20  22  81  23 311 372]\n",
            " [  0 146   0  72  11  76 107  24  61 503]\n",
            " [  8  54   0  83 195  65 349  44  70 132]\n",
            " [  1  63   0 124  37 255 328  51  13 128]\n",
            " [  1  48   0  88 262  35 410  39  25  92]\n",
            " [  0  65   0  95  62 345 322  25  20  66]\n",
            " [  0  35   0  78 176 102 521  31   3  54]\n",
            " [  0  76   0  62 106  73 373  80  13 217]\n",
            " [  5  87   0  33   3  66  23   6 303 474]\n",
            " [  0  78   0  33  13  31  80  25  62 678]]\n",
            "Classification Report:\n",
            "              precision    recall  f1-score   support\n",
            "\n",
            "           0       0.71      0.04      0.07      1000\n",
            "           1       0.20      0.15      0.17      1000\n",
            "           2       0.00      0.00      0.00      1000\n",
            "           3       0.18      0.12      0.15      1000\n",
            "           4       0.30      0.26      0.28      1000\n",
            "           5       0.32      0.34      0.33      1000\n",
            "           6       0.20      0.52      0.29      1000\n",
            "           7       0.23      0.08      0.12      1000\n",
            "           8       0.34      0.30      0.32      1000\n",
            "           9       0.25      0.68      0.36      1000\n",
            "\n",
            "    accuracy                           0.25     10000\n",
            "   macro avg       0.27      0.25      0.21     10000\n",
            "weighted avg       0.27      0.25      0.21     10000\n",
            "\n"
          ]
        },
        {
          "output_type": "stream",
          "name": "stderr",
          "text": [
            "/usr/local/lib/python3.10/dist-packages/sklearn/metrics/_classification.py:1531: UndefinedMetricWarning: Precision is ill-defined and being set to 0.0 in labels with no predicted samples. Use `zero_division` parameter to control this behavior.\n",
            "  _warn_prf(average, modifier, f\"{metric.capitalize()} is\", len(result))\n",
            "/usr/local/lib/python3.10/dist-packages/sklearn/metrics/_classification.py:1531: UndefinedMetricWarning: Precision is ill-defined and being set to 0.0 in labels with no predicted samples. Use `zero_division` parameter to control this behavior.\n",
            "  _warn_prf(average, modifier, f\"{metric.capitalize()} is\", len(result))\n",
            "/usr/local/lib/python3.10/dist-packages/sklearn/metrics/_classification.py:1531: UndefinedMetricWarning: Precision is ill-defined and being set to 0.0 in labels with no predicted samples. Use `zero_division` parameter to control this behavior.\n",
            "  _warn_prf(average, modifier, f\"{metric.capitalize()} is\", len(result))\n"
          ]
        }
      ]
    },
    {
      "cell_type": "markdown",
      "source": [
        "How can you further improve model performance if the accuracy is low?\n",
        "\n",
        "\n",
        "1. Data Augmentation\n",
        "Apply transformations like rotations, shifts, and flips to increase training data diversity.\n",
        "2. Model Architecture\n",
        "Experiment with deeper architectures, add layers, or use pre-trained models (transfer learning).\n",
        "3. Regularization\n",
        "Use dropout to prevent overfitting or apply L1/L2 regularization to control model complexity.\n",
        "4. Hyperparameter Tuning\n",
        "Adjust hyperparameters like learning rate, batch size, and epochs using grid or random search.\n",
        "5. Learning Rate Adjustments\n",
        "Use learning rate schedules or adaptive optimizers (e.g., Adam) for optimal training.\n",
        "6. Increase Training Data\n",
        "Gather more labeled data to improve model generalization.\n",
        "7. Feature Engineering\n",
        "Normalize features, remove irrelevant ones, or apply dimensionality reduction.\n",
        "8. Class Imbalance Handling\n",
        "Address imbalances by oversampling minority classes, undersampling majority ones, or using weighted losses.\n",
        "9. Ensemble Methods\n",
        "Combine predictions from multiple models (e.g., bagging or boosting) for better performance.\n",
        "10. Fine-Tuning and Validation\n",
        "Validate on a separate set and use early stopping to prevent overfitting."
      ],
      "metadata": {
        "id": "OFKR2DpcA6qk"
      }
    },
    {
      "cell_type": "markdown",
      "source": [
        "Optimization Strategies:\n",
        "o Discuss optimization strategies such as:\n",
        "\n",
        "▪ Early stopping to prevent overfitting.\n",
        "▪ Learning rate scheduling for smoother convergence.\n",
        "▪ Weight initialization techniques to ensure efficient learning.\n",
        "1. Early Stopping\n",
        "Definition: Early stopping is a technique where training is halted when the model's performance on a validation set starts to degrade, despite continued improvement on the training set.\n",
        "Purpose: This prevents overfitting, where the model learns noise from the training data rather than generalizing well to unseen data.\n",
        "Implementation: Monitor validation loss or accuracy during training, and stop training if these metrics do not improve for a predetermined number of epochs (patience).\n",
        "\n",
        "2. Learning Rate Scheduling\n",
        "Definition: Learning rate scheduling adjusts the learning rate during training, typically decreasing it over time.\n",
        "Purpose: It allows for larger learning rates initially to speed up convergence and smaller rates later to fine-tune the model.\n",
        "Common Strategies:\n",
        "Step Decay: Reduce the learning rate by a factor at specific epochs.\n",
        "Exponential Decay: Gradually decrease the learning rate using an exponential function.\n",
        "Reduce on Plateau: Reduce the learning rate when the validation metric stops improving.\n",
        "\n",
        "3. Weight Initialization Techniques\n",
        "Definition: Properly initializing weights is crucial for effective learning in neural networks.\n",
        "Purpose: Good initialization can prevent issues like vanishing or exploding gradients, leading to faster convergence and better final performance.\n",
        "Common Techniques:\n",
        "Xavier/Glorot Initialization: Designed for sigmoid/tanh activations; sets weights based on the number of input and output units.\n",
        "He Initialization: Suitable for ReLU activations; sets weights to draw from a distribution that takes into account the number of input units.\n",
        "Zero Initialization: Generally avoided, as it can lead to symmetry problems where neurons learn the same features."
      ],
      "metadata": {
        "id": "QLJ1efBmA-lm"
      }
    },
    {
      "cell_type": "markdown",
      "source": [
        "Why is weight initialization important, and how does it impact the\n",
        "convergence of your network?\n",
        "\n",
        "\n",
        "Weight initialization is a crucial aspect of training neural networks, and it significantly impacts the convergence and overall performance of the model.\n",
        "\n",
        "Importance of Weight Initialization\n",
        "Prevents Vanishing and Exploding Gradients:\n",
        "\n",
        "Proper weight initialization helps mitigate the issues of vanishing or exploding gradients, which can occur during backpropagation. If weights are initialized too small, gradients may become vanishingly small, leading to slow learning. Conversely, if weights are initialized too large, gradients can explode, causing the training process to diverge.\n",
        "Facilitates Efficient Learning:\n",
        "\n",
        "Well-initialized weights allow the network to start learning more effectively from the beginning. If weights are initialized poorly, the model may require many more epochs to converge, wasting computational resources.\n",
        "Breaks Symmetry:\n",
        "\n",
        "Initializing weights randomly (instead of setting them all to the same value) helps break symmetry between neurons in the same layer. If all weights are the same, neurons will learn the same features during training, which limits the model's capacity to learn diverse representations.\n",
        "Impact on Convergence\n",
        "Speed of Convergence:\n",
        "\n",
        "Good weight initialization can lead to faster convergence because the model starts in a region of the parameter space that is conducive to learning. Poor initialization can cause the model to get stuck in suboptimal regions, requiring more training iterations to escape.\n",
        "Quality of the Final Model:\n",
        "\n",
        "The choice of weight initialization can affect the final performance of the model. A well-initialized model is more likely to find a better local minimum, resulting in improved accuracy and generalization on unseen data.\n",
        "Training Stability:\n",
        "\n",
        "Proper weight initialization contributes to more stable training dynamics, reducing fluctuations in loss and accuracy during training. This stability can lead to a more predictable training process."
      ],
      "metadata": {
        "id": "ZtQt9A0kBeTa"
      }
    },
    {
      "cell_type": "markdown",
      "source": [
        "Report:\n",
        "\n",
        "\n",
        "1. Hyperparameter Values Used:-\n",
        "Learning Rate: 0.001\n",
        "Batch Size: 64\n",
        "Number of Epochs: 50\n",
        "Model Architecture:\n",
        "Input Layer: Flatten (32x32x3)\n",
        "Hidden Layer 1: Dense(512, activation='relu')\n",
        "Hidden Layer 2: Dense(256, activation='relu')\n",
        "Output Layer: Dense(10, activation='softmax')\n",
        "\n",
        "2. Data Preprocessing Steps:-\n",
        "Normalized pixel values to range between 0 and 1.\n",
        "Converted class labels into one-hot encoded format.\n",
        "Applied data augmentation techniques:\n",
        "Random rotations, width and height shifts, horizontal flips.\n",
        "\n",
        "3. Model Training and Evaluation:-\n",
        "Implemented early stopping to prevent overfitting.\n",
        "Used categorical cross-entropy loss function and Adam optimizer.\n",
        "Monitored training and validation accuracy during training.\n",
        "\n",
        "4. Challenges Faced and Solutions:-\n",
        "\n",
        "4.1 Challenge: Overfitting\n",
        "Description: The model performed well on the training set but had poor accuracy on the validation set.\n",
        "Solution:\n",
        "Implemented dropout layers to reduce overfitting.\n",
        "Used early stopping to monitor validation performance and stop training when the model started to degrade.\n",
        "\n",
        "4.2 Challenge: Slow Convergence\n",
        "Description: The model took a long time to converge, especially in the early epochs.\n",
        "Solution:\n",
        "Adjusted the learning rate to 0.001 after experimenting with various values.\n",
        "Implemented learning rate scheduling to decrease the learning rate over time for smoother convergence.\n",
        "\n",
        "4.3 Challenge: Class Imbalance\n",
        "Description: Some classes had significantly fewer samples, leading to biased performance.\n",
        "Solution:\n",
        "Applied weighted loss functions to give more importance to underrepresented classes during training.\n",
        "\n",
        "4.4 Challenge: Hyperparameter Tuning\n",
        "Description: Finding the optimal hyperparameters was challenging and time-consuming.\n",
        "Solution:\n",
        "Used systematic approaches such as grid search and random search to explore different combinations of hyperparameters efficiently."
      ],
      "metadata": {
        "id": "fqHi_zObFCST"
      }
    }
  ]
}